{
 "cells": [
  {
   "cell_type": "markdown",
   "metadata": {},
   "source": [
    "# Programming Assingment #2"
   ]
  },
  {
   "cell_type": "markdown",
   "metadata": {},
   "source": []
  },
  {
   "cell_type": "markdown",
   "metadata": {},
   "source": [
    "## Introduction \n",
    "\n",
    "The purpose of the assignment is to make ourselves familiarized with designing and programming algorithms for searching while it utilizes the most optimal paths to get to a specific goal using a heuristic function.\n",
    "\n",
    "The goal for the assignment is to design and create the algorithms for two different environments given by the problems 9 and 11 [1].\n",
    "\n",
    "Theoretical Background\n",
    "\n",
    "The assignment uses an informed search methodology to address the problems. In informed search we utilize specific information of the problem to find more efficient solutions that may not be possible to obtain when we use uninformed search. To reach this goal, informed search algorithms make use of a heuristic function. A Heuristic function helps the search algorithm make a prediction about the cost of certain paths within the search. Heuristic functions are not the same for every problem; each problem requires a specific heuristic function that depends on the problem itself."
   ]
  },
  {
   "cell_type": "markdown",
   "metadata": {},
   "source": [
    "## Discussion\n",
    "\n",
    "If the state space consists of all positions (x,y) on a plane, we can assume that the state space is infinite, since the positions of (x,y) in a plane are infinite. This means that the number of states within this space is infinite, thus making the number of paths to the goal infinite as well. With that being said, there is only one optimal path, this path being a straight line from the starting point to the goal. This is the ideal path if no obstacles are involved. Once obstacles are introduced to the problem, the solution still involves straight lines around said obstacles. For a space to be efficient, it should only include the vertices of the polygons, the start point and the goal. One basic concept of math we can apply to determine what would be the straight line from the start point to the goal, is the Pythagorean theorem, from which we can derive our heuristic function, this narrows the state space to only the space encompassed by the start point and goal or, for a more visual representation, the square formed by the starting point (x1, y1), the goal (x2, y2), the point (x2,y1), and the point (x1, y2). With this, the number of possible states and possible paths, becomes finite.\n",
    "\n",
    "To solve the problem of identifying the shortest path between two points in a plane filled with polygon obstacle in python code we made use of the search.py [2] and utils.py [3] of the UC Berkeley code repository for python and our original python file of the problem mentioned above."
   ]
  },
  {
   "cell_type": "code",
   "execution_count": 3,
   "metadata": {},
   "outputs": [
    {
     "name": "stdout",
     "output_type": "stream",
     "text": [
      "Test Case 'simple': Path - [(5, 5)], Path Cost - 1\n",
      "Test Case 'single_obstacle': Path - [(1, 1), (1, 2), (2, 3), (4, 4)], Path Cost - 4\n",
      "Test Case 'multiple_obstacles': Path - [(1, 1), (1, 2), (2, 3), (3, 3), (5, 5)], Path Cost - 5\n",
      "Test Case 'narrow_path': Path - [(1, 0), (1, 1), (2, 2), (2, 3), (3, 3), (5, 5)], Path Cost - 6\n",
      "Test Case 'dead_end': Path - [(4, 0)], Path Cost - 1\n",
      "Test Case 'distant_goal': Path - [(10, 10)], Path Cost - 1\n"
     ]
    }
   ],
   "source": [
    "import math\n",
    "from search import Problem, astar_search  \n",
    "\n",
    "\n",
    "class PolygonPathProblem(Problem):\n",
    "    def __init__(self, initial, goal, polygons, step_size=1):\n",
    "        super().__init__(initial, goal)\n",
    "        self.polygons = polygons\n",
    "        self.step_size = step_size\n",
    "\n",
    "    def actions(self, state):\n",
    "        neighbors = self.get_neighbors(state)\n",
    "        valid_actions = [neighbor for neighbor in neighbors if self.can_reach_directly(state, neighbor)]\n",
    "        if self.can_reach_directly(state, self.goal):\n",
    "            valid_actions.append(self.goal)\n",
    "        return valid_actions\n",
    "\n",
    "    def get_neighbors(self, state):\n",
    "        step = self.step_size\n",
    "        x, y = state\n",
    "        # Generate neighboring nodes in a grid pattern\n",
    "        return [(x+dx, y+dy) for dx in [-step, 0, step] for dy in [-step, 0, step] if not (dx == 0 and dy == 0)]\n",
    "\n",
    "    def can_reach_directly(self, state, vertex):\n",
    "        if state == vertex:\n",
    "            return False\n",
    "        for polygon in self.polygons:\n",
    "            for i in range(len(polygon)):\n",
    "                edge_start, edge_end = polygon[i], polygon[(i + 1) % len(polygon)]\n",
    "                if self.do_lines_intersect(state, vertex, edge_start, edge_end):\n",
    "                    return False\n",
    "        return True\n",
    "\n",
    "    @staticmethod\n",
    "    def do_lines_intersect(line1_start, line1_end, line2_start, line2_end):\n",
    "        def ccw(A, B, C):\n",
    "            return (C[1] - A[1]) * (B[0] - A[0]) > (B[1] - A[1]) * (C[0] - A[0])\n",
    "\n",
    "        A, B = line1_start, line1_end\n",
    "        C, D = line2_start, line2_end\n",
    "\n",
    "        return ccw(A, C, D) != ccw(B, C, D) and ccw(A, B, C) != ccw(A, B, D)\n",
    "\n",
    "\n",
    "    def result(self, state, action):\n",
    "        return action\n",
    " \n",
    "\n",
    "\n",
    "    def h(self, node):\n",
    "        return math.sqrt((node.state[0] - self.goal[0])**2 + (node.state[1] - self.goal[1])**2)\n",
    "\n",
    "\n",
    "# Test cases\n",
    "def test_cases():\n",
    "    polygons = {\n",
    "        \"simple\": [],\n",
    "        \"single_obstacle\": [[[2, 2], [2, 3], [3, 3], [3, 2]]],\n",
    "        \"multiple_obstacles\": [[[1, 2], [1, 3], [2, 3], [2, 2]], \n",
    "                               [[3, 1], [3, 2], [4, 2], [4, 1]]],\n",
    "        \"narrow_path\": [[[1, 1], [1, 3], [2, 3], [2, 1]],\n",
    "                        [[3, 1], [3, 3], [4, 3], [4, 1]]],\n",
    "        \"dead_end\": [[[1, 1], [1, 2], [2, 2], [2, 1]], \n",
    "                     [[1, 3], [1, 4], [3, 4], [3, 3]]],\n",
    "        \"distant_goal\": []\n",
    "        } \n",
    "\n",
    "    start_goal_pairs = {\n",
    "        \"simple\": ((0, 0), (5, 5)),\n",
    "        \"single_obstacle\": ((0, 0), (4, 4)),\n",
    "        \"multiple_obstacles\": ((0, 0), (5, 5)),\n",
    "        \"narrow_path\": ((0, 0), (5, 5)),\n",
    "        \"dead_end\": ((0, 0), (4, 0)),\n",
    "        \"distant_goal\": ((0, 0), (10, 10))\n",
    "    }\n",
    "\n",
    "    problems = {name: PolygonPathProblem(start, goal, polygons[name])\n",
    "                for name, (start, goal) in start_goal_pairs.items()}\n",
    "\n",
    "    for name, problem in problems.items():\n",
    "        solution = astar_search(problem, h = problem.h)\n",
    "        print(f\"Test Case '{name}': Path - {solution.solution() if solution else 'No path found'}, \"\n",
    "              f\"Path Cost - {solution.path_cost if solution else 'N/A'}\")\n",
    "\n",
    "\n",
    "if __name__ == \"__main__\":\n",
    "    test_cases()"
   ]
  },
  {
   "cell_type": "markdown",
   "metadata": {},
   "source": [
    "For the output, the bigger the Path Cost, the more deviations from the straight line were made. Let's take the simple, which has no obstacles, and the multiple_obstacles as examples. The simple test case has a Path Value of 1, which means the the algorithm followed a straight line from the start point to the goal, while the multiple_obstacles problem has a Path Cost of 6, meaning that the algorithm made 5 aditional steps to the amount expected if it could travel in a straight line."
   ]
  },
  {
   "cell_type": "markdown",
   "metadata": {},
   "source": [
    "The next exercise is the missionaries and cannibals problem. The problem states that there are six people on one side of a river, three missionaries and three cannibals alongside a boat that can hold one or two people at a time. Every person has to cross to the other side of the river using the boat, however the missionaries must not be outnumbered by cannibals on either side at all times.\n",
    "\n",
    "The initial state of the problem is three missionaries, three cannibals, and the boat are on the left side of a river. The goal state is that all three missionaries and cannibals are on the right side of the river. The operator allowed is that the boat can carry one or two people from one side to the other, the boat cannot travel without a person on it. And as constraint we have that at no point should the number of cannibals on either side of the river outnumber the number of missionaries, if it happens the cannibals will eat the missionaries and the problem will fail. The problem is solved using Breadth-First-Tree-Search (BFTS) because it guarantees the shortest path to the goal state while avoiding any repeated states. In the code it checks the validity of states, generates the next possible states and maintains a queue to explore the state space. The importance of checking for repeated states is crucial in the BFTS to avoid infinite loops, as the problem space can lead to revisiting the same states. The process is showcased in Figure 3 which is the output of the code that was implemented for the problem\n"
   ]
  },
  {
   "cell_type": "code",
   "execution_count": 1,
   "metadata": {},
   "outputs": [
    {
     "name": "stdout",
     "output_type": "stream",
     "text": [
      "Step 1: (3, 3, 1)\n",
      "Step 2: (3, 1, 0)\n",
      "Step 3: (3, 2, 1)\n",
      "Step 4: (3, 0, 0)\n",
      "Step 5: (3, 1, 1)\n",
      "Step 6: (1, 1, 0)\n",
      "Step 7: (2, 2, 1)\n",
      "Step 8: (0, 2, 0)\n",
      "Step 9: (0, 3, 1)\n",
      "Step 10: (0, 1, 0)\n",
      "Step 11: (1, 1, 1)\n",
      "Step 12: (0, 0, 0)\n"
     ]
    }
   ],
   "source": [
    "import search\n",
    "\n",
    "\"\"\" Missionaries and Cannibals problem\"\"\"\n",
    "\n",
    "# Defining initial states\n",
    "initial_state = (3, 3, 1) # (Missionaries on left, Cannibals on left, Boat position 1 for left or 0 for right)\n",
    "goal_state = (0, 0, 0)\n",
    "\n",
    "# Function to check if state is valid\n",
    "def is_valid(state):\n",
    "    miss, canni, boat = state\n",
    "    if miss < 0 or canni < 0 or miss > 3 or canni > 3 or (canni > miss > 0) or (3 - canni > 3 - miss > 0):\n",
    "        return False\n",
    "    return True\n",
    "\n",
    "# Define a function to generate next possible states\n",
    "def generate_next_states(state):\n",
    "    miss, canni, boat = state\n",
    "    possible_states = []\n",
    "\n",
    "    # Define the possible moves\n",
    "    moves = [(2, 0), (0, 2), (1, 1), (1, 0), (0, 1)]\n",
    "\n",
    "    for move in moves:\n",
    "        if boat == 1:\n",
    "            new_state = (miss - move[0], canni - move[1], 0)\n",
    "        else:\n",
    "            new_state = (miss + move[0], canni + move[1], 1)\n",
    "        if is_valid(new_state):\n",
    "            possible_states.append(new_state)\n",
    "    return possible_states\n",
    "\n",
    "# Define the Problem class\n",
    "class MissionariesCannibalsProblem:\n",
    "    def __init__(self, initial_state, goal_state):\n",
    "        self.initial = initial_state\n",
    "        self.goal = goal_state\n",
    "\n",
    "    def actions(self, state):\n",
    "        return generate_next_states(state)\n",
    "\n",
    "    def result(self, state, action):\n",
    "        return action\n",
    "\n",
    "    def goal_test(self, state):\n",
    "        return state == self.goal\n",
    "\n",
    "    def path_cost(self, c, state1, action, state2):\n",
    "        return 1\n",
    "#  Instantiate the problem\n",
    "problem = MissionariesCannibalsProblem(initial_state, goal_state)\n",
    "\n",
    "# Apply the problem in the breadth_first_tree\n",
    "solution_node = search.breadth_first_tree_search(problem)\n",
    "\n",
    "# Print the solution\n",
    "if solution_node:\n",
    "    solution_path = []\n",
    "    while solution_node:\n",
    "        solution_path.append(solution_node.state)\n",
    "        solution_node = solution_node.parent\n",
    "    solution_path.reverse()\n",
    "    for step, state in enumerate(solution_path):\n",
    "        print(f\"Step {step + 1}: {state}\")\n",
    "else:\n",
    "    print(\"No solution found.\")"
   ]
  },
  {
   "cell_type": "markdown",
   "metadata": {},
   "source": [
    "This puzzle can be challenging to people because it involves multiple constraints at the same time like maintaining the safety of missionaries, preventing the cannibals from outnumbering missionaries on either side and efficiently using the boats capacity. Although it is easy to represent the state space, solving the problem manually is not simple due to its constraints and requirement for a valid solution. This problem requires careful planning to make sure that it doesn't go against any restrictions when finding a solution"
   ]
  },
  {
   "cell_type": "markdown",
   "metadata": {},
   "source": [
    "## Conclusion\n",
    "\n",
    "In conclusion, tackling the two proposed problems, key learnings encompass the realms of problem-solving and algorithmic design, with a specific focus on graph theory, heuristics, state space analysis, and optimization strategies. These problems helped us understand how to represent problems using graphs, the development and application of heuristic functions, and the importance of understanding constraints and safety conditions.  Additionally, they offer insights into human cognitive processes, highlighting the distinction between human and algorithmic problem-solving approaches. This also serves as a practical application of AI techniques and reinforces the importance of algorithm performance evaluation, providing a comprehensive understanding of both the theoretical and applied aspects of artificial intelligence and computational problem-solving."
   ]
  },
  {
   "cell_type": "markdown",
   "metadata": {},
   "source": [
    "## References\n",
    "\n",
    "References:\n",
    "\n",
    "Exercise 9 and 11 https://aimacode.github.io/aima-exercises/search-exercises/\n",
    "\n",
    "search.py \n",
    "https://github.com/aimacode/aima-python/blob/master/search.py\n",
    "\n",
    "utils.py\n",
    "https://github.com/aimacode/aima-python/blob/master/utils.py\n"
   ]
  }
 ],
 "metadata": {
  "kernelspec": {
   "display_name": "Python 3",
   "language": "python",
   "name": "python3"
  },
  "language_info": {
   "codemirror_mode": {
    "name": "ipython",
    "version": 3
   },
   "file_extension": ".py",
   "mimetype": "text/x-python",
   "name": "python",
   "nbconvert_exporter": "python",
   "pygments_lexer": "ipython3",
   "version": "3.10.13"
  }
 },
 "nbformat": 4,
 "nbformat_minor": 2
}
